{
  "nbformat": 4,
  "nbformat_minor": 0,
  "metadata": {
    "colab": {
      "name": "Untitled17.ipynb",
      "provenance": [],
      "authorship_tag": "ABX9TyMuY3hM9jSXbzyKCaiweQLp",
      "include_colab_link": true
    },
    "kernelspec": {
      "name": "python3",
      "display_name": "Python 3"
    },
    "language_info": {
      "name": "python"
    }
  },
  "cells": [
    {
      "cell_type": "markdown",
      "metadata": {
        "id": "view-in-github",
        "colab_type": "text"
      },
      "source": [
        "<a href=\"https://colab.research.google.com/github/gustavoep/reg_linear/blob/main/REGLIN.ipynb\" target=\"_parent\"><img src=\"https://colab.research.google.com/assets/colab-badge.svg\" alt=\"Open In Colab\"/></a>"
      ]
    },
    {
      "cell_type": "markdown",
      "source": [
        "Procedimento para processamento de dados espectrais - SensorGreen"
      ],
      "metadata": {
        "id": "DAZxLJxEl5OW"
      }
    },
    {
      "cell_type": "code",
      "execution_count": 82,
      "metadata": {
        "colab": {
          "base_uri": "https://localhost:8080/"
        },
        "id": "h7H6KDRYlnCz",
        "outputId": "957b8548-7705-48d8-9735-25f5ba6d9658"
      },
      "outputs": [
        {
          "output_type": "stream",
          "name": "stdout",
          "text": [
            "Versão do pandas -> 1.3.5\n",
            "Versão do numpy -> 1.21.6\n",
            "Versão do seaborn -> 0.11.2\n",
            "Versão do scipy -> 1.4.1\n",
            "Versão do statsmodels -> 0.10.2\n"
          ]
        }
      ],
      "source": [
        "import pandas as pd\n",
        "import os\n",
        "import seaborn as sns\n",
        "import scipy\n",
        "import statsmodels\n",
        "import numpy as np\n",
        "import matplotlib.pyplot as plt\n",
        "from sklearn.linear_model import LinearRegression\n",
        "from sklearn.metrics import mean_squared_error, mean_absolute_error, r2_score\n",
        "from scipy.signal import savgol_filter\n",
        "import statsmodels.api as sm\n",
        "from sklearn.model_selection import train_test_split\n",
        "%matplotlib inline\n",
        "print('Versão do pandas -> %s' % pd.__version__)\n",
        "print('Versão do numpy -> %s' % np.__version__)\n",
        "print('Versão do seaborn -> %s' % sns.__version__)\n",
        "print('Versão do scipy -> %s' % scipy.__version__)\n",
        "print('Versão do statsmodels -> %s' % statsmodels.__version__)"
      ]
    },
    {
      "cell_type": "code",
      "source": [
        "#VERIFICAR DIRETORIO LOCAL\n",
        "def current_path():\n",
        "    print(\"Current working directory before\")\n",
        "    print(os.getcwd())\n",
        "    print()\n",
        "current_path()"
      ],
      "metadata": {
        "colab": {
          "base_uri": "https://localhost:8080/"
        },
        "id": "CHZy0kfcl2Rn",
        "outputId": "42c76297-a7ae-4403-88b5-c92498955830"
      },
      "execution_count": 50,
      "outputs": [
        {
          "output_type": "stream",
          "name": "stdout",
          "text": [
            "Current working directory before\n",
            "/content\n",
            "\n"
          ]
        }
      ]
    },
    {
      "cell_type": "code",
      "source": [
        "#IMPORTAR DADOS\n",
        "dados_excel = pd.read_excel(\"dadosteste.xlsx\")\n",
        "y = dados_excel.CO\n",
        "x= dados_excel.iloc[:,46:]\n",
        "print('Dados importados com sucesso!')"
      ],
      "metadata": {
        "colab": {
          "base_uri": "https://localhost:8080/"
        },
        "id": "bG8Mqn-LmBJ-",
        "outputId": "e1ab3b7b-48f7-448d-bad8-536d8870ed6b"
      },
      "execution_count": 81,
      "outputs": [
        {
          "output_type": "stream",
          "name": "stdout",
          "text": [
            "Dados importados com sucesso!\n"
          ]
        }
      ]
    },
    {
      "cell_type": "code",
      "source": [
        "#REGRESSÃO LINEAR\n",
        "\n",
        "#Dividindo os dados em treino e teste\n",
        "X_train, X_test, y_train, y_test = train_test_split(x, y, test_size=0.25)\n",
        "# Criando o modelo LinearRegression\n",
        "regr = LinearRegression()\n",
        "# Realizar treinamento do modelo\n",
        "regr.fit(X_train, y_train)\n",
        "# Realizar predição com os dados separados para teste\n",
        "y_pred = regr.predict(X_test)\n",
        "# Visualização dos 20 primeiros resultados\n",
        "y_pred[:20]"
      ],
      "metadata": {
        "colab": {
          "base_uri": "https://localhost:8080/"
        },
        "id": "gpWAWAiQumOI",
        "outputId": "b989c274-ea14-4138-9d8f-13758fb57b56"
      },
      "execution_count": 83,
      "outputs": [
        {
          "output_type": "execute_result",
          "data": {
            "text/plain": [
              "array([ 4.59732232,  2.43296666,  8.70816665, -1.22505577, -0.06843348,\n",
              "        1.12090721,  4.81535632,  3.62334948, -1.65924228,  2.40171422,\n",
              "        2.0326681 ,  2.70513505,  2.02392724, -0.26879521,  0.22924801,\n",
              "        1.18594885,  1.94180383,  0.18843049,  4.27734954,  6.17539104])"
            ]
          },
          "metadata": {},
          "execution_count": 83
        }
      ]
    },
    {
      "cell_type": "code",
      "source": [
        "#AVALIAÇÃO ESTATÍSTICA DO MODELO\n",
        "print('MAE: %.2f' % mean_absolute_error(y_test, y_pred))\n",
        "print('Mean squared error: %.2f' % mean_squared_error(y_test, y_pred))\n",
        "print('R2 Score: %.2f' % r2_score(y_test, y_pred))"
      ],
      "metadata": {
        "colab": {
          "base_uri": "https://localhost:8080/"
        },
        "id": "o-QktVHiwQox",
        "outputId": "6dac74dc-ce9d-49a7-e156-48c30e3f6b60"
      },
      "execution_count": 84,
      "outputs": [
        {
          "output_type": "stream",
          "name": "stdout",
          "text": [
            "MAE: 1.75\n",
            "Mean squared error: 6.35\n",
            "R2 Score: 0.16\n"
          ]
        }
      ]
    },
    {
      "cell_type": "code",
      "source": [
        ""
      ],
      "metadata": {
        "colab": {
          "base_uri": "https://localhost:8080/",
          "height": 265
        },
        "id": "BhzQYCF2wbzG",
        "outputId": "7947b838-655d-4aa0-c15f-85ef5555b5f3"
      },
      "execution_count": 85,
      "outputs": [
        {
          "output_type": "display_data",
          "data": {
            "text/plain": [
              "<Figure size 432x288 with 1 Axes>"
            ],
            "image/png": "[encoded data removed]"
          },
          "metadata": {
            "needs_background": "light"
          }
        }
      ]
    }
  ]
}