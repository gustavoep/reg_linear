{
  "nbformat": 4,
  "nbformat_minor": 0,
  "metadata": {
    "colab": {
      "name": "Untitled17.ipynb",
      "provenance": [],
      "authorship_tag": "ABX9TyME/S3bPKkAaJp89x7ix9tO",
      "include_colab_link": true
    },
    "kernelspec": {
      "name": "python3",
      "display_name": "Python 3"
    },
    "language_info": {
      "name": "python"
    }
  },
  "cells": [
    {
      "cell_type": "markdown",
      "metadata": {
        "id": "view-in-github",
        "colab_type": "text"
      },
      "source": [
        "<a href=\"https://colab.research.google.com/github/gustavoep/reg_linear/blob/main/lin%2Bpolinom.ipynb\" target=\"_parent\"><img src=\"https://colab.research.google.com/assets/colab-badge.svg\" alt=\"Open In Colab\"/></a>"
      ]
    },
    {
      "cell_type": "markdown",
      "source": [
        "Procedimento para processamento de dados espectrais - SensorGreen"
      ],
      "metadata": {
        "id": "DAZxLJxEl5OW"
      }
    },
    {
      "cell_type": "code",
      "execution_count": 1,
      "metadata": {
        "colab": {
          "base_uri": "https://localhost:8080/"
        },
        "id": "h7H6KDRYlnCz",
        "outputId": "4c639204-a6c8-4ad4-ad6e-9c298f314a13"
      },
      "outputs": [
        {
          "output_type": "stream",
          "name": "stderr",
          "text": [
            "/usr/local/lib/python3.7/dist-packages/statsmodels/tools/_testing.py:19: FutureWarning: pandas.util.testing is deprecated. Use the functions in the public API at pandas.testing instead.\n",
            "  import pandas.util.testing as tm\n"
          ]
        },
        {
          "output_type": "stream",
          "name": "stdout",
          "text": [
            "Versão do pandas -> 1.3.5\n",
            "Versão do numpy -> 1.21.6\n",
            "Versão do seaborn -> 0.11.2\n",
            "Versão do scipy -> 1.4.1\n",
            "Versão do statsmodels -> 0.10.2\n"
          ]
        }
      ],
      "source": [
        "import pandas as pd\n",
        "import os\n",
        "import seaborn as sns\n",
        "import scipy\n",
        "import statsmodels\n",
        "import numpy as np\n",
        "import matplotlib.pyplot as plt\n",
        "from sklearn.linear_model import LinearRegression\n",
        "from sklearn.metrics import mean_squared_error, mean_absolute_error, r2_score\n",
        "from scipy.signal import savgol_filter\n",
        "import statsmodels.api as sm\n",
        "from sklearn.model_selection import train_test_split\n",
        "from sklearn.preprocessing import PolynomialFeatures\n",
        "%matplotlib inline\n",
        "print('Versão do pandas -> %s' % pd.__version__)\n",
        "print('Versão do numpy -> %s' % np.__version__)\n",
        "print('Versão do seaborn -> %s' % sns.__version__)\n",
        "print('Versão do scipy -> %s' % scipy.__version__)\n",
        "print('Versão do statsmodels -> %s' % statsmodels.__version__)"
      ]
    },
    {
      "cell_type": "code",
      "source": [
        "#VERIFICAR DIRETORIO LOCAL\n",
        "def current_path():\n",
        "    print(\"Current working directory before\")\n",
        "    print(os.getcwd())\n",
        "    print()\n",
        "current_path()"
      ],
      "metadata": {
        "colab": {
          "base_uri": "https://localhost:8080/"
        },
        "id": "CHZy0kfcl2Rn",
        "outputId": "264f5b43-465e-43f8-e148-245779ef38d8"
      },
      "execution_count": 2,
      "outputs": [
        {
          "output_type": "stream",
          "name": "stdout",
          "text": [
            "Current working directory before\n",
            "/content\n",
            "\n"
          ]
        }
      ]
    },
    {
      "cell_type": "code",
      "source": [
        "#IMPORTAR DADOS\n",
        "dados_excel = pd.read_excel(\"dadosteste.xlsx\")\n",
        "y = dados_excel.CO\n",
        "x= dados_excel.iloc[:,46:]\n",
        "print('Dados importados com sucesso!')"
      ],
      "metadata": {
        "colab": {
          "base_uri": "https://localhost:8080/"
        },
        "id": "bG8Mqn-LmBJ-",
        "outputId": "72292780-245c-4545-dbfd-673e33c56abc"
      },
      "execution_count": 3,
      "outputs": [
        {
          "output_type": "stream",
          "name": "stdout",
          "text": [
            "Dados importados com sucesso!\n"
          ]
        }
      ]
    },
    {
      "cell_type": "code",
      "source": [
        "#REGRESSÃO LINEAR SIMPLES\n",
        "\n",
        "#Dividindo os dados em treino e teste\n",
        "X_train, X_test, y_train, y_test = train_test_split(x, y, test_size=0.25)\n",
        "# Criando o modelo LinearRegression\n",
        "regr = LinearRegression()\n",
        "# Realizar treinamento do modelo\n",
        "regr.fit(X_train, y_train)\n",
        "# Realizar predição com os dados separados para teste\n",
        "y_pred = regr.predict(X_test)\n",
        "# Visualização dos 20 primeiros resultados\n",
        "y_pred[:20]"
      ],
      "metadata": {
        "colab": {
          "base_uri": "https://localhost:8080/"
        },
        "id": "gpWAWAiQumOI",
        "outputId": "055cd35f-147c-4c58-b75e-ec0bf7bcf764"
      },
      "execution_count": 4,
      "outputs": [
        {
          "output_type": "execute_result",
          "data": {
            "text/plain": [
              "array([ 0.89840762,  0.31403457,  0.81477146,  4.26537978,  5.15915363,\n",
              "        6.83791418,  2.26185081, -0.48728415,  1.18454011, -1.12197755,\n",
              "        3.81332392,  8.10613888,  0.61447842, -2.66934118, -1.53333465,\n",
              "        5.84973238, -1.31608364, -0.72099681,  1.28101336,  3.86531237])"
            ]
          },
          "metadata": {},
          "execution_count": 4
        }
      ]
    },
    {
      "cell_type": "code",
      "source": [
        "#AVALIAÇÃO ESTATÍSTICA DO MODELO\n",
        "print('MAE: %.2f' % mean_absolute_error(y_test, y_pred))\n",
        "print('Mean squared error: %.2f' % mean_squared_error(y_test, y_pred))\n",
        "print('R2 Score: %.2f' % r2_score(y_test, y_pred))"
      ],
      "metadata": {
        "colab": {
          "base_uri": "https://localhost:8080/"
        },
        "id": "o-QktVHiwQox",
        "outputId": "413de8d5-0dd6-4539-b39b-f141f43bd7c6"
      },
      "execution_count": 5,
      "outputs": [
        {
          "output_type": "stream",
          "name": "stdout",
          "text": [
            "MAE: 1.98\n",
            "Mean squared error: 6.32\n",
            "R2 Score: 0.09\n"
          ]
        }
      ]
    },
    {
      "cell_type": "code",
      "source": [
        "plt.plot(y_test,y_pred, 'o')\n",
        "plt.show()"
      ],
      "metadata": {
        "id": "b0ESQOTEUJqw",
        "outputId": "5ac6b306-de8b-4ded-d2af-e07bad88fad1",
        "colab": {
          "base_uri": "https://localhost:8080/",
          "height": 265
        }
      },
      "execution_count": 11,
      "outputs": [
        {
          "output_type": "display_data",
          "data": {
            "text/plain": [
              "<Figure size 432x288 with 1 Axes>"
            ],
            "image/png": "[encoded data removed]"
          },
          "metadata": {
            "needs_background": "light"
          }
        }
      ]
    },
    {
      "cell_type": "code",
      "source": [
        "fig = plt.figure(figsize=(10,5))\n",
        "ax = fig.add_subplot(111)\n",
        "ax.set_title('Teor de CO (%) observado vs estimado')\n",
        "ax.scatter(x=y_test,y=y_pred,label='BESR-2598-brutos', color='black')\n",
        "\n",
        "ax.set_xlabel('Teor de CO observado (%)')\n",
        "ax.set_ylabel('Teor de CO estimado (%)')\n",
        "ax.legend(loc='best')\n",
        "plt.show()"
      ],
      "metadata": {
        "id": "nGiOO_GwUzGh",
        "outputId": "8f033610-7ce1-4438-ad0d-eedffa2f93f3",
        "colab": {
          "base_uri": "https://localhost:8080/",
          "height": 350
        }
      },
      "execution_count": 18,
      "outputs": [
        {
          "output_type": "display_data",
          "data": {
            "text/plain": [
              "<Figure size 720x360 with 1 Axes>"
            ],
            "image/png": "[encoded data removed]"
          },
          "metadata": {
            "needs_background": "light"
          }
        }
      ]
    },
    {
      "cell_type": "code",
      "source": [
        "#REGRESSÃO POLINOMIAL\n",
        "\n"
      ],
      "metadata": {
        "id": "BhzQYCF2wbzG"
      },
      "execution_count": null,
      "outputs": []
    },
    {
      "cell_type": "code",
      "source": [
        "import urllib.request\n",
        "import json\n",
        "\n",
        "with urllib.request.urlopen(\"https://geolocation-db.com/json/\") as url:\n",
        "    data = url.read().decode()\n",
        "    print(data)"
      ],
      "metadata": {
        "id": "YyGOi_vRTjDB",
        "outputId": "54973624-76ac-4295-9caa-72931f58d01c",
        "colab": {
          "base_uri": "https://localhost:8080/"
        }
      },
      "execution_count": 7,
      "outputs": [
        {
          "output_type": "stream",
          "name": "stdout",
          "text": [
            "{\"country_code\":\"US\",\"country_name\":\"United States\",\"city\":null,\"postal\":null,\"latitude\":37.751,\"longitude\":-97.822,\"IPv4\":\"34.91.23.151\",\"state\":null}\n"
          ]
        }
      ]
    }
  ]
}