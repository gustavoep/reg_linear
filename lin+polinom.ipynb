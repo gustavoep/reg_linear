{
  "nbformat": 4,
  "nbformat_minor": 0,
  "metadata": {
    "colab": {
      "name": "Untitled17.ipynb",
      "provenance": [],
      "authorship_tag": "ABX9TyN9wKzXzZPx4rQAlZlve/gZ",
      "include_colab_link": true
    },
    "kernelspec": {
      "name": "python3",
      "display_name": "Python 3"
    },
    "language_info": {
      "name": "python"
    }
  },
  "cells": [
    {
      "cell_type": "markdown",
      "metadata": {
        "id": "view-in-github",
        "colab_type": "text"
      },
      "source": [
        "<a href=\"https://colab.research.google.com/github/gustavoep/reg_linear/blob/main/lin%2Bpolinom.ipynb\" target=\"_parent\"><img src=\"https://colab.research.google.com/assets/colab-badge.svg\" alt=\"Open In Colab\"/></a>"
      ]
    },
    {
      "cell_type": "markdown",
      "source": [
        "Procedimento para processamento de dados espectrais - SensorGreen"
      ],
      "metadata": {
        "id": "DAZxLJxEl5OW"
      }
    },
    {
      "cell_type": "code",
      "execution_count": 1,
      "metadata": {
        "colab": {
          "base_uri": "https://localhost:8080/"
        },
        "id": "h7H6KDRYlnCz",
        "outputId": "d96a49dd-046a-43d5-ac90-e852877b43d3"
      },
      "outputs": [
        {
          "output_type": "stream",
          "name": "stderr",
          "text": [
            "/usr/local/lib/python3.7/dist-packages/statsmodels/tools/_testing.py:19: FutureWarning: pandas.util.testing is deprecated. Use the functions in the public API at pandas.testing instead.\n",
            "  import pandas.util.testing as tm\n"
          ]
        },
        {
          "output_type": "stream",
          "name": "stdout",
          "text": [
            "Versão do pandas -> 1.3.5\n",
            "Versão do numpy -> 1.21.6\n",
            "Versão do seaborn -> 0.11.2\n",
            "Versão do scipy -> 1.4.1\n",
            "Versão do statsmodels -> 0.10.2\n"
          ]
        }
      ],
      "source": [
        "import pandas as pd\n",
        "import os\n",
        "import seaborn as sns\n",
        "import scipy\n",
        "import statsmodels\n",
        "import numpy as np\n",
        "import matplotlib.pyplot as plt\n",
        "from sklearn.linear_model import LinearRegression\n",
        "from sklearn.metrics import mean_squared_error, mean_absolute_error, r2_score\n",
        "from scipy.signal import savgol_filter\n",
        "import statsmodels.api as sm\n",
        "from sklearn.model_selection import train_test_split\n",
        "from sklearn.preprocessing import PolynomialFeatures\n",
        "%matplotlib inline\n",
        "print('Versão do pandas -> %s' % pd.__version__)\n",
        "print('Versão do numpy -> %s' % np.__version__)\n",
        "print('Versão do seaborn -> %s' % sns.__version__)\n",
        "print('Versão do scipy -> %s' % scipy.__version__)\n",
        "print('Versão do statsmodels -> %s' % statsmodels.__version__)"
      ]
    },
    {
      "cell_type": "code",
      "source": [
        "#VERIFICAR DIRETORIO LOCAL\n",
        "def current_path():\n",
        "    print(\"Current working directory before\")\n",
        "    print(os.getcwd())\n",
        "    print()\n",
        "current_path()"
      ],
      "metadata": {
        "colab": {
          "base_uri": "https://localhost:8080/"
        },
        "id": "CHZy0kfcl2Rn",
        "outputId": "832bfbce-19f9-424b-e6b2-21cb2e2ad7cf"
      },
      "execution_count": 2,
      "outputs": [
        {
          "output_type": "stream",
          "name": "stdout",
          "text": [
            "Current working directory before\n",
            "/content\n",
            "\n"
          ]
        }
      ]
    },
    {
      "cell_type": "code",
      "source": [
        "#IMPORTAR DADOS\n",
        "dados_excel = pd.read_excel(\"dadosteste.xlsx\")\n",
        "y = dados_excel.CO\n",
        "x= dados_excel.iloc[:,46:]\n",
        "print('Dados importados com sucesso!')"
      ],
      "metadata": {
        "colab": {
          "base_uri": "https://localhost:8080/"
        },
        "id": "bG8Mqn-LmBJ-",
        "outputId": "1245c083-02af-4122-cd5e-5c793e845453"
      },
      "execution_count": 3,
      "outputs": [
        {
          "output_type": "stream",
          "name": "stdout",
          "text": [
            "Dados importados com sucesso!\n"
          ]
        }
      ]
    },
    {
      "cell_type": "code",
      "source": [
        "#REGRESSÃO LINEAR SIMPLES\n",
        "\n",
        "#Dividindo os dados em treino e teste\n",
        "X_train, X_test, y_train, y_test = train_test_split(x, y, test_size=0.25)\n",
        "# Criando o modelo LinearRegression\n",
        "regr = LinearRegression()\n",
        "# Realizar treinamento do modelo\n",
        "regr.fit(X_train, y_train)\n",
        "# Realizar predição com os dados separados para teste\n",
        "y_pred = regr.predict(X_test)\n",
        "# Visualização dos 20 primeiros resultados\n",
        "y_pred[:20]"
      ],
      "metadata": {
        "colab": {
          "base_uri": "https://localhost:8080/"
        },
        "id": "gpWAWAiQumOI",
        "outputId": "5c5531e2-f15e-423c-edad-4726fdcec984"
      },
      "execution_count": 4,
      "outputs": [
        {
          "output_type": "execute_result",
          "data": {
            "text/plain": [
              "array([-1.88395743,  0.37567381,  0.78059334, -1.13210379,  3.05087827,\n",
              "        3.58253106, -0.5411401 , -2.83043071,  0.02596081,  2.31289731,\n",
              "        0.90839135,  3.62846978, -1.59125923,  4.94955074,  5.53128567,\n",
              "        2.36141005,  3.11507865,  1.09598255, -1.1600463 ,  8.89347237])"
            ]
          },
          "metadata": {},
          "execution_count": 4
        }
      ]
    },
    {
      "cell_type": "code",
      "source": [
        "#AVALIAÇÃO ESTATÍSTICA DO MODELO\n",
        "print('MAE: %.2f' % mean_absolute_error(y_test, y_pred))\n",
        "print('Mean squared error: %.2f' % mean_squared_error(y_test, y_pred))\n",
        "print('R2 Score: %.2f' % r2_score(y_test, y_pred))"
      ],
      "metadata": {
        "colab": {
          "base_uri": "https://localhost:8080/"
        },
        "id": "o-QktVHiwQox",
        "outputId": "46f4b16c-80c6-436c-cc50-13ad452d9d38"
      },
      "execution_count": 5,
      "outputs": [
        {
          "output_type": "stream",
          "name": "stdout",
          "text": [
            "MAE: 1.79\n",
            "Mean squared error: 5.78\n",
            "R2 Score: 0.04\n"
          ]
        }
      ]
    },
    {
      "cell_type": "code",
      "source": [
        "#REGRESSÃO POLINOMIAL\n",
        "\n",
        "x2 = np.array(x).reshape((-1, 1))\n",
        "y2 = np.array(y)\n",
        "transformer = PolynomialFeatures(degree=2, include_bias=False)\n",
        "transformer.fit(x2)\n",
        "x_ = transformer.transform(x2)\n",
        "x_ = PolynomialFeatures(degree=2, include_bias=False).fit_transform(x)\n",
        "regpol = LinearRegression().fit(x_, y2)\n",
        "r_sq = regpol.score(x_, y2)\n",
        "print(f\"coefficient of determination: {r_sq}\")"
      ],
      "metadata": {
        "id": "BhzQYCF2wbzG"
      },
      "execution_count": null,
      "outputs": []
    }
  ]
}